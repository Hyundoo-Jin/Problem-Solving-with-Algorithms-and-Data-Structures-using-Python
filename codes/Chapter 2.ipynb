{
 "cells": [
  {
   "cell_type": "markdown",
   "metadata": {},
   "source": [
    "## 2.2 What is Algorithm Analysis?"
   ]
  },
  {
   "cell_type": "code",
   "execution_count": 5,
   "metadata": {},
   "outputs": [],
   "source": [
    "import time"
   ]
  },
  {
   "cell_type": "code",
   "execution_count": 6,
   "metadata": {},
   "outputs": [],
   "source": [
    "def sumofN(n) :\n",
    "    thesum = 0\n",
    "    for i in range(1, n + 1) :\n",
    "        thesum = thesum + i\n",
    "    return thesum"
   ]
  },
  {
   "cell_type": "code",
   "execution_count": 7,
   "metadata": {},
   "outputs": [
    {
     "name": "stdout",
     "output_type": "stream",
     "text": [
      "55\n"
     ]
    }
   ],
   "source": [
    "print(sumofN(10))"
   ]
  },
  {
   "cell_type": "code",
   "execution_count": 8,
   "metadata": {},
   "outputs": [],
   "source": [
    "def foo(tom):\n",
    "    fred = 0\n",
    "    for bill in range(1,tom + 1):\n",
    "       barney = bill\n",
    "       fred = fred + barney\n",
    "\n",
    "    return fred"
   ]
  },
  {
   "cell_type": "code",
   "execution_count": 9,
   "metadata": {},
   "outputs": [
    {
     "name": "stdout",
     "output_type": "stream",
     "text": [
      "55\n"
     ]
    }
   ],
   "source": [
    "print(foo(10))"
   ]
  },
  {
   "cell_type": "markdown",
   "metadata": {},
   "source": [
    "##### 두 코드가 같은 기능을 하는 코드이지만, 변수명을 직관적으로 사용하느냐에 따라 로직을 이해하는 데에 큰 차이가 있다."
   ]
  },
  {
   "cell_type": "code",
   "execution_count": 14,
   "metadata": {},
   "outputs": [],
   "source": [
    "def sumofN2(n) :\n",
    "    start_time = time.time()\n",
    "    thesum = 0\n",
    "    for i in range(1, n + 1) :\n",
    "        thesum = thesum + i\n",
    "    \n",
    "    end_time = time.time()\n",
    "    return thesum, end_time - start_time"
   ]
  },
  {
   "cell_type": "code",
   "execution_count": 23,
   "metadata": {},
   "outputs": [
    {
     "name": "stdout",
     "output_type": "stream",
     "text": [
      "Sum is 50005000 required  0.0015535 seconds.\n",
      "Sum is 50005000 required  0.0015044 seconds.\n",
      "Sum is 50005000 required  0.0016358 seconds.\n",
      "Sum is 50005000 required  0.0015507 seconds.\n",
      "Sum is 50005000 required  0.0015283 seconds.\n"
     ]
    }
   ],
   "source": [
    "for i in range(5) :\n",
    "    print('Sum is %d required %10.7f seconds.'%sumofN2(10000))"
   ]
  },
  {
   "cell_type": "code",
   "execution_count": 24,
   "metadata": {},
   "outputs": [
    {
     "name": "stdout",
     "output_type": "stream",
     "text": [
      "Sum is 5000050000 required  0.0064886 seconds\n",
      "Sum is 5000050000 required  0.0085077 seconds\n",
      "Sum is 5000050000 required  0.0070615 seconds\n",
      "Sum is 5000050000 required  0.0040743 seconds\n",
      "Sum is 5000050000 required  0.0040865 seconds\n"
     ]
    }
   ],
   "source": [
    "for i in range(5) :\n",
    "    print('Sum is %d required %10.7f seconds'%sumofN2(100000))"
   ]
  },
  {
   "cell_type": "code",
   "execution_count": 25,
   "metadata": {},
   "outputs": [
    {
     "name": "stdout",
     "output_type": "stream",
     "text": [
      "Sum is 500000500000 required  0.0584178 seconds\n",
      "Sum is 500000500000 required  0.0333118 seconds\n",
      "Sum is 500000500000 required  0.0336051 seconds\n",
      "Sum is 500000500000 required  0.0323486 seconds\n",
      "Sum is 500000500000 required  0.0334461 seconds\n"
     ]
    }
   ],
   "source": [
    "for i in range(5) :\n",
    "    print('Sum is %d required %10.7f seconds'%sumofN2(1000000))"
   ]
  },
  {
   "cell_type": "markdown",
   "metadata": {},
   "source": [
    "##### sumofN2 함수는\n",
    "\\\\(\\sum_{i=1}^{n}i = \\frac{(n)(n + 1)}{2}\\\\)\n",
    "의 시간복잡도를 갖는다."
   ]
  },
  {
   "cell_type": "code",
   "execution_count": 35,
   "metadata": {},
   "outputs": [],
   "source": [
    "def sumofN3(n) :\n",
    "    start_time = time.time()\n",
    "    thesum = (n * (n + 1)) / 2\n",
    "    end_time = time.time()\n",
    "    return thesum, end_time - start_time"
   ]
  },
  {
   "cell_type": "code",
   "execution_count": 38,
   "metadata": {},
   "outputs": [
    {
     "name": "stdout",
     "output_type": "stream",
     "text": [
      "Sum is 50005000 required  0.0000026 seconds\n",
      "Sum is 5000050000 required  0.0000024 seconds\n",
      "Sum is 500000500000 required  0.0000012 seconds\n"
     ]
    }
   ],
   "source": [
    "for i in range(4, 7) :\n",
    "    print('Sum is %d required %10.7f seconds'%sumofN3(10 ** i))"
   ]
  },
  {
   "cell_type": "markdown",
   "metadata": {},
   "source": [
    "##### sumofN3 함수는 n에 상관없이 항상 동일한 적은 시간이 소요된다.\n",
    "##### 우리는 이러한 알고리즘의 복잡도를 언어, 컴퓨터 성능 등과 무관하게 표현할 필요가 있다."
   ]
  },
  {
   "cell_type": "markdown",
   "metadata": {},
   "source": [
    "### 2.3 Big-O Notation"
   ]
  },
  {
   "cell_type": "code",
   "execution_count": 40,
   "metadata": {},
   "outputs": [],
   "source": [
    "def listing2(n) :\n",
    "    a = 5\n",
    "    b = 6\n",
    "    c = 10\n",
    "    for i in range(n) :\n",
    "        for j in range(n) :\n",
    "            x = i * i\n",
    "            y = j * j\n",
    "            z = i * j\n",
    "    for k in range(n) :\n",
    "        w = a * k + 45\n",
    "        v = b * b\n",
    "    d = 33"
   ]
  },
  {
   "cell_type": "markdown",
   "metadata": {},
   "source": [
    "##### 이 함수의 시간복잡도는 얼마일까?\n",
    "세 개의 상수 할당 (3), 이중 for문에서 $n^2$의 복잡도인 변수 세 개 ($3n^2$), 두 번째 for문에서 $n$의 복잡도인 변수 두 개 ($2n$), 마지막 상수 할당 (1)  \n",
    "즉, $3 + 3n^2 + 2n + 1 = 3n^2 + 2n + 4$이고, 이를 Big-O Notation으로 표현하면,  \n",
    "$O(n^2)$이다."
   ]
  },
  {
   "cell_type": "markdown",
   "metadata": {},
   "source": [
    "### 2.4 An Anagram Detection Example"
   ]
  },
  {
   "cell_type": "markdown",
   "metadata": {},
   "source": [
    "Anagram이란 단어의 알파벳을 재조합해서 새로운 다른 단어로 바꾸는 일종의 말장난이다.  \n",
    "예) 'heart' <-> 'earth', 'python' <-> 'typhon'"
   ]
  },
  {
   "cell_type": "code",
   "execution_count": 56,
   "metadata": {},
   "outputs": [],
   "source": [
    "def anagramsolver1(word1, word2) :\n",
    "    alist = list(word2)\n",
    "    pos1 = 0\n",
    "    stillOK = True\n",
    "\n",
    "    while pos1 < len(word1) and stillOK :\n",
    "        pos2 = 0\n",
    "        found = False\n",
    "        while pos2 < len(alist) and not found:\n",
    "            if word1[pos1] == alist[pos2] :\n",
    "                found = True\n",
    "            else:\n",
    "                pos2 = pos2 + 1\n",
    "\n",
    "        if found :\n",
    "            alist[pos2] = None\n",
    "        else :\n",
    "            stillOK = False\n",
    "\n",
    "        pos1 = pos1 + 1\n",
    "\n",
    "    return stillOK"
   ]
  },
  {
   "cell_type": "code",
   "execution_count": 52,
   "metadata": {},
   "outputs": [
    {
     "data": {
      "text/plain": [
       "True"
      ]
     },
     "execution_count": 52,
     "metadata": {},
     "output_type": "execute_result"
    }
   ],
   "source": [
    "anagramsolver1('abcd', 'dcba')"
   ]
  },
  {
   "cell_type": "markdown",
   "metadata": {},
   "source": [
    "이 코드는 두 단어의 이중 loop를 통해 한 알파벳씩 비교하고, 단어 1에 존재하는 알파벳이 단어 2에 존재하지 않으면 False를 반환하는 기초적인 알고리즘으로 짜여져 있다.  \n",
    "즉, 이 알고리즘의 시간복잡도는,  \n",
    "$\\sum_{i = 1}^ni = \\frac{n(n + 1)}{2} = \\frac{1}{2}n^2 + \\frac{1}{2}n$이고, Big-O Notation으로는 $O{n^2}$로 표현할 수 있다."
   ]
  },
  {
   "cell_type": "markdown",
   "metadata": {},
   "source": [
    "### 2.4.2 Solution 2 : Sort and Compare"
   ]
  },
  {
   "cell_type": "markdown",
   "metadata": {},
   "source": [
    "Anagram을 두 단어를 구성하는 알파벳은 동일하므로 알파벳 순으로 sort하면 같은 string이 반환되어야 한다.  \n",
    "이를 이용한 sort and compare 방법으로 solver를 만들어보자."
   ]
  },
  {
   "cell_type": "code",
   "execution_count": 61,
   "metadata": {},
   "outputs": [],
   "source": [
    "def anagramsolver2(word1, word2) :\n",
    "    alist1 = list(word1)\n",
    "    alist2 = list(word2)\n",
    "\n",
    "    alist1.sort()\n",
    "    alist2.sort()\n",
    "    \n",
    "    pos = 0\n",
    "    matches = True\n",
    "\n",
    "    while pos < len(word1) and matches :\n",
    "        if alist1[pos] == alist2[pos] :\n",
    "            pos = pos + 1\n",
    "        else :\n",
    "            matches = False\n",
    "            \n",
    "    return matches"
   ]
  },
  {
   "cell_type": "code",
   "execution_count": 62,
   "metadata": {},
   "outputs": [
    {
     "data": {
      "text/plain": [
       "True"
      ]
     },
     "execution_count": 62,
     "metadata": {},
     "output_type": "execute_result"
    }
   ],
   "source": [
    "anagramsolver2('abcde', 'edcba')"
   ]
  },
  {
   "cell_type": "markdown",
   "metadata": {},
   "source": [
    "언뜻 보기에 이 알고리즘의 시간복잡도는 $O(n)$인 것처럼 보이지만, python의 sort 메소드를 두 번 사용했기 때문에, 그렇지 않다.  \n",
    "일반적으로 sort 알고리즘의 시간복잡도는 $O(n^2)$이거나, $O(n\\log{n})$이므로, 이 알고리즘의 시간복잡도도 그와 같을 것이다."
   ]
  },
  {
   "cell_type": "markdown",
   "metadata": {},
   "source": [
    "### 2.4.3 Brute Force"
   ]
  },
  {
   "cell_type": "markdown",
   "metadata": {},
   "source": [
    "Brute Force는 모든 가능한 경우를 다 검토하는 방법이다. Anagram을 확인하는 문제에서는, 두 단어의 알파벳들로 만들 수 있는 모든 문자열을 만들어볼 것이다.  \n",
    "첫 번째 단어 word1에 n개의 알파벳이 있다고 하면, $n!$개의 가능한 문자열을 만들 수 있다.  \n",
    "만약 첫 번째 단어 word1이 길이가 20이라면, 총 $20! = 2,432,902,008,176,640,000$의 경우의 수가 생기며, 만약 1초에 하나씩 연산할 수 있다고 한다면, 총 77,146,816,596년이 걸린다. 이 방법은 좋은 방법이 되지 않을 것이므로 건너뛰도록 한다."
   ]
  },
  {
   "cell_type": "markdown",
   "metadata": {},
   "source": [
    "### 2.4.4 Count and Compare"
   ]
  },
  {
   "cell_type": "markdown",
   "metadata": {},
   "source": [
    "두 단어가 Anagram이라면, 두 단어는 같은 수의 알파벳을 갖고 있을 것이다. 즉, 같은 수의 a, 같은 수의 b, ..., 같은 수의 z를 갖고 있을 것이다.  \n",
    "알파벳은 총 26개이므로, 26개의 count 리스트를 작성하면 된다. 각 단어의 iteration을 돌며 count 리스트를 갱신한 후, 두 단어의 count 리스트를 비교하면 된다."
   ]
  },
  {
   "cell_type": "code",
   "execution_count": 67,
   "metadata": {},
   "outputs": [],
   "source": [
    "def anagramsolver3(word1, word2):\n",
    "    c1 = [0]*26\n",
    "    c2 = [0]*26\n",
    "\n",
    "    for i in range(len(word1)):\n",
    "        pos = ord(word1[i]) - ord('a')     # 문자열의 ord는 유니코드 번호를 반환하는 python 내장 함수\n",
    "        c1[pos] = c1[pos] + 1\n",
    "\n",
    "    for i in range(len(word2)):\n",
    "        pos = ord(word2[i]) - ord('a')\n",
    "        c2[pos] = c2[pos] + 1\n",
    "\n",
    "    j = 0\n",
    "    stillOK = True\n",
    "    while j < 26 and stillOK:\n",
    "        if c1[j] == c2[j]:\n",
    "            j = j + 1\n",
    "        else:\n",
    "            stillOK = False\n",
    "\n",
    "    return stillOK"
   ]
  },
  {
   "cell_type": "code",
   "execution_count": 68,
   "metadata": {},
   "outputs": [
    {
     "data": {
      "text/plain": [
       "True"
      ]
     },
     "execution_count": 68,
     "metadata": {},
     "output_type": "execute_result"
    }
   ],
   "source": [
    "anagramsolver3('apple', 'pleap')"
   ]
  },
  {
   "cell_type": "markdown",
   "metadata": {},
   "source": [
    "이 방법으로는 이중 loop가 존재하지 않고, 복잡도 n인 loop 두 개와, 복잡도 26인 loop 하나로 이루어져 있으므로,  \n",
    "$2n + 26$의 복잡도를 가지고 있다. 즉, Big-O로 표현하면 $O(n)$의 시간복잡도를 가지고 있는 알고리즘이다."
   ]
  },
  {
   "cell_type": "markdown",
   "metadata": {},
   "source": [
    "또, 이전 두 알고리즘과는 달리 단어 1에 사용된 알파벳이 모두 단어 2에 사용되었더라도 단어의 길이가 다르면 False를 반환한다."
   ]
  },
  {
   "cell_type": "code",
   "execution_count": 72,
   "metadata": {},
   "outputs": [
    {
     "name": "stdout",
     "output_type": "stream",
     "text": [
      "True True False\n"
     ]
    }
   ],
   "source": [
    "print(anagramsolver1('abcd', 'abcde'), anagramsolver2('abcd', 'abcde'), anagramsolver3('abcd', 'abcde'))"
   ]
  },
  {
   "cell_type": "markdown",
   "metadata": {},
   "source": [
    "### 2.5 Performance of Python Data Structures"
   ]
  },
  {
   "cell_type": "markdown",
   "metadata": {},
   "source": [
    "이제 파이썬의 기본 자료구조가 얼마나 효율적으로 작동하는지 알아보도록 한다. (list와 dictionary)"
   ]
  },
  {
   "cell_type": "markdown",
   "metadata": {},
   "source": [
    "### 2.6 Lists"
   ]
  },
  {
   "cell_type": "markdown",
   "metadata": {},
   "source": [
    "리스트 자료구조를 만드는 데에 가장 흔히 사용되는 두 가지 방법 중 하나는"
   ]
  },
  {
   "cell_type": "code",
   "execution_count": null,
   "metadata": {},
   "outputs": [],
   "source": []
  }
 ],
 "metadata": {
  "kernelspec": {
   "display_name": "Python 3",
   "language": "python",
   "name": "python3"
  },
  "language_info": {
   "codemirror_mode": {
    "name": "ipython",
    "version": 3
   },
   "file_extension": ".py",
   "mimetype": "text/x-python",
   "name": "python",
   "nbconvert_exporter": "python",
   "pygments_lexer": "ipython3",
   "version": "3.6.7"
  }
 },
 "nbformat": 4,
 "nbformat_minor": 2
}
