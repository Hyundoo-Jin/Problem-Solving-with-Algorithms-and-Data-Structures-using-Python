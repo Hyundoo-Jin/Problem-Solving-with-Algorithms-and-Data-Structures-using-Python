{
 "cells": [
  {
   "cell_type": "markdown",
   "metadata": {},
   "source": [
    "### 3.2 Linear Structures"
   ]
  },
  {
   "cell_type": "markdown",
   "metadata": {},
   "source": [
    " Stacks, Queues, Deques, Lists의 네 가지 Data Structure에 대해 공부할 것이다. 이 데이터 구조를 Linear Structure(선형구조)라고 하는데, 이는 데이터가 다른 데이터들과 위치상의 상관관계(즉, 순서)를 가지고 있는 것을 말한다.   \n",
    "  \n",
    " Linear Structure는 두 가지의 끝 지점을 가지고 있다. 왼쪽 끝과 오른쪽 끝, 혹은 앞과 뒤로 나누거나, top과 base로도 구분할 수 있다. 위의 나열된 네 가지 데이터구조는 데이터를 추가하고 제거하는 방식의 차이에 따라 구분할 수 있다."
   ]
  },
  {
   "cell_type": "markdown",
   "metadata": {},
   "source": [
    "### 3.3 What is a Stack?"
   ]
  },
  {
   "cell_type": "markdown",
   "metadata": {},
   "source": [
    " Stack이란 item의 추가와 삭제가 항상 동일한 end에서 발생하는 자료구조이다.(데이터 추가와 삭제 모두 하나의 end에서만 발생한다.) item을 삭제할 때 가장 최근에 추가했던 데이터가 삭제되는 **LIFO(Last-in, first-out)** 방식의 자료구조이다.  \n",
    "  \n",
    "\n",
    " 이를 이해하기 위한 가장 쉬운 예시 중 하나는 책상에 책 쌓아올리기다. 책상에 책을 모두 쌓아올린 뒤, 다시 책을 꺼낼 때엔 어떻게 하는가? 가장 위에 있는 책(가장 최근에 쌓아올린 책)부터 책을 꺼낼 것이다. 또, 인터넷 브라우저(크롬, IE 등)로 웹서핑을 할 때를 생각해보자. 뒤로가기 버튼은 항상 바로 이전의 웹페이지(가장 최근에 탐색했던 페이지)로 이동하게 한다. 계속 뒤로가기 버튼을 누르다 보면 언젠가 홈 웹페이지(base end의 페이지)로 되돌아갈 것이다."
   ]
  },
  {
   "cell_type": "markdown",
   "metadata": {},
   "source": [
    "### 3.4 The Stack Abstract Data Type"
   ]
  },
  {
   "cell_type": "markdown",
   "metadata": {},
   "source": [
    "stack abstract 데이터타입은 다음과같은 명령어로 구성되어 있다."
   ]
  },
  {
   "cell_type": "markdown",
   "metadata": {},
   "source": [
    "- ```Stack()``` : 비어있는 새로운 스택을 반환한다. parameter는 필요하지 않다.\n",
    "- ```push(item)``` : 새로운 item을 stack의 top에 넣는다. item param가 필요하고, return은 없다.\n",
    "- ```pop()``` : stack의 top에 있는 item을 반환한다. param는 필요하지 않고 stack에서 반환된 item이 삭제된다.  \n",
    "- ```peek()``` : stack의 top에 있는 item을 반환하지만 stack은 수정되지 않는다.  \n",
    "- ```isEmpty()``` : stack이 비어있는지를 반환한다. boolean값으로 반환한다.  \n",
    "- ```size()``` : stack에 존재하는 item 개수를 반환한다. integer값을 반환한다."
   ]
  },
  {
   "cell_type": "markdown",
   "metadata": {},
   "source": [
    " 다음은 stack 자료구조를 생성하고, 여러 method 실행결과와 stack 상태를 나타낸 것이다."
   ]
  },
  {
   "cell_type": "code",
   "execution_count": 1,
   "metadata": {},
   "outputs": [],
   "source": [
    "from structures.Stack import Stack"
   ]
  },
  {
   "cell_type": "code",
   "execution_count": 2,
   "metadata": {},
   "outputs": [],
   "source": [
    "s = Stack()"
   ]
  },
  {
   "cell_type": "code",
   "execution_count": 3,
   "metadata": {},
   "outputs": [
    {
     "name": "stdout",
     "output_type": "stream",
     "text": [
      "True []\n"
     ]
    }
   ],
   "source": [
    "print(s.isEmpty(), s.items)"
   ]
  },
  {
   "cell_type": "code",
   "execution_count": 4,
   "metadata": {},
   "outputs": [
    {
     "name": "stdout",
     "output_type": "stream",
     "text": [
      "None [4]\n"
     ]
    }
   ],
   "source": [
    "print(s.push(4), s.items)"
   ]
  },
  {
   "cell_type": "code",
   "execution_count": 5,
   "metadata": {},
   "outputs": [
    {
     "name": "stdout",
     "output_type": "stream",
     "text": [
      "None [4, 'dog']\n"
     ]
    }
   ],
   "source": [
    "print(s.push('dog'), s.items)"
   ]
  },
  {
   "cell_type": "code",
   "execution_count": 6,
   "metadata": {},
   "outputs": [
    {
     "name": "stdout",
     "output_type": "stream",
     "text": [
      "dog [4, 'dog']\n"
     ]
    }
   ],
   "source": [
    "print(s.peek(), s.items)"
   ]
  },
  {
   "cell_type": "code",
   "execution_count": 7,
   "metadata": {},
   "outputs": [
    {
     "name": "stdout",
     "output_type": "stream",
     "text": [
      "None [4, 'dog', True]\n"
     ]
    }
   ],
   "source": [
    "print(s.push(True), s.items)"
   ]
  },
  {
   "cell_type": "code",
   "execution_count": 8,
   "metadata": {},
   "outputs": [
    {
     "name": "stdout",
     "output_type": "stream",
     "text": [
      "3 [4, 'dog', True]\n"
     ]
    }
   ],
   "source": [
    "print(s.size(), s.items)"
   ]
  },
  {
   "cell_type": "code",
   "execution_count": 9,
   "metadata": {},
   "outputs": [
    {
     "name": "stdout",
     "output_type": "stream",
     "text": [
      "False [4, 'dog', True]\n"
     ]
    }
   ],
   "source": [
    "print(s.isEmpty(), s.items)"
   ]
  },
  {
   "cell_type": "code",
   "execution_count": 10,
   "metadata": {},
   "outputs": [
    {
     "name": "stdout",
     "output_type": "stream",
     "text": [
      "None [4, 'dog', True, 8.4]\n"
     ]
    }
   ],
   "source": [
    "print(s.push(8.4), s.items)"
   ]
  },
  {
   "cell_type": "code",
   "execution_count": 11,
   "metadata": {},
   "outputs": [
    {
     "name": "stdout",
     "output_type": "stream",
     "text": [
      "8.4 [4, 'dog', True]\n"
     ]
    }
   ],
   "source": [
    "print(s.pop(), s.items)"
   ]
  },
  {
   "cell_type": "code",
   "execution_count": 12,
   "metadata": {},
   "outputs": [
    {
     "name": "stdout",
     "output_type": "stream",
     "text": [
      "True [4, 'dog']\n"
     ]
    }
   ],
   "source": [
    "print(s.pop(), s.items)"
   ]
  },
  {
   "cell_type": "code",
   "execution_count": 13,
   "metadata": {},
   "outputs": [
    {
     "name": "stdout",
     "output_type": "stream",
     "text": [
      "2 [4, 'dog']\n"
     ]
    }
   ],
   "source": [
    "print(s.size(), s.items)"
   ]
  },
  {
   "cell_type": "markdown",
   "metadata": {},
   "source": [
    "### 3.6 Simple Challenge : Balanced Parentheses"
   ]
  },
  {
   "cell_type": "markdown",
   "metadata": {},
   "source": [
    "다음 예시에서 Parentheses(괄호)는 모두 쌍으로 이루어져있다."
   ]
  },
  {
   "cell_type": "markdown",
   "metadata": {},
   "source": [
    ">(()()()())  \n",
    ">(((())))  \n",
    ">(()((())()))"
   ]
  },
  {
   "cell_type": "markdown",
   "metadata": {},
   "source": [
    "다음 예시는 쌍이 맞지 않는 괄호들이다."
   ]
  },
  {
   "cell_type": "markdown",
   "metadata": {},
   "source": [
    ">((((((())  \n",
    ">()))  \n",
    ">(()()(()"
   ]
  },
  {
   "cell_type": "markdown",
   "metadata": {},
   "source": [
    " 이제 우리는 괄호로 이루어진 string이 balanced인지 그렇지 않은지를 판별하는 알고리즘을 만들고자 한다. 괄호는 가장 마지막에 열린 괄호가 가장 빨리 닫히고, 가장 처음에 열린 괄호가 가장 마지막에 닫힌다. stack을 어떻게 이 알고리즘에 써야할지 이 특징이 알려준다.  \n",
    "  \n",
    " 빈 스택에서 시작해서, 열린 괄호를 만나면 stack에 push하고, 닫힌 괄호를 만나면, stack에서 pop하면 된다. 만약 string을 모두 읽었는데 stack에 item이 남아있거나, 빈 stack에서 pop을 시도한다면, 그 괄호는 balance하지 않은 괄호이다."
   ]
  },
  {
   "cell_type": "code",
   "execution_count": 14,
   "metadata": {},
   "outputs": [],
   "source": [
    "def parChecker(string) :\n",
    "    s = Stack()\n",
    "    balanced = True\n",
    "    index = 0\n",
    "    while index < len(string) and balanced :\n",
    "        symbol = string[index]\n",
    "        if symbol == '(' :\n",
    "            s.push(symbol)\n",
    "        else :\n",
    "            if s.isEmpty() :\n",
    "                balanced = False\n",
    "            else :\n",
    "                s.pop()\n",
    "        \n",
    "        index = index + 1\n",
    "        \n",
    "    if balanced and s.isEmpty() :\n",
    "        return True\n",
    "    else :\n",
    "        return False"
   ]
  },
  {
   "cell_type": "code",
   "execution_count": 15,
   "metadata": {},
   "outputs": [
    {
     "data": {
      "text/plain": [
       "True"
      ]
     },
     "execution_count": 15,
     "metadata": {},
     "output_type": "execute_result"
    }
   ],
   "source": [
    "parChecker('((()))')"
   ]
  },
  {
   "cell_type": "code",
   "execution_count": 16,
   "metadata": {},
   "outputs": [
    {
     "data": {
      "text/plain": [
       "False"
      ]
     },
     "execution_count": 16,
     "metadata": {},
     "output_type": "execute_result"
    }
   ],
   "source": [
    "parChecker('(()')"
   ]
  },
  {
   "cell_type": "markdown",
   "metadata": {},
   "source": [
    "### 3.7 Balanced Symbols (A General Case)"
   ]
  },
  {
   "cell_type": "markdown",
   "metadata": {},
   "source": [
    " 괄호 판별기는 Balanced Symbols의 특별한 케이스이다. 파이썬에서도 ()와 {}, []이 각 tuple, dictionary, list를 만드는 데에 사용된다. 다음의 예제들은 모두 Balanced Symbol이다."
   ]
  },
  {
   "cell_type": "markdown",
   "metadata": {},
   "source": [
    ">{ { ( [ ] [ ] ) } ( ) }  \n",
    ">[ [ { { ( ( ) ) } } ] ]  \n",
    ">[ ] [ ] [ ] ( ) { }"
   ]
  },
  {
   "cell_type": "markdown",
   "metadata": {},
   "source": [
    "다음의 string은 모두 not balanced string이다."
   ]
  },
  {
   "cell_type": "markdown",
   "metadata": {},
   "source": [
    ">( [ ) ]  \n",
    ">( ( ( ) ] ) )  \n",
    ">[ { ( ) ]"
   ]
  },
  {
   "cell_type": "code",
   "execution_count": 17,
   "metadata": {},
   "outputs": [],
   "source": [
    "def parChecker(string) :\n",
    "    def matches(open, close) :\n",
    "        opens = '([{'\n",
    "        closers = ')]}'\n",
    "        return opens.index(open) == closers.index(close)\n",
    "    \n",
    "    s = Stack()\n",
    "    balanced = True\n",
    "    index = 0\n",
    "    while index < len(string) and balanced :\n",
    "        symbol = string[index]\n",
    "        if symbol in '([{' :\n",
    "            s.push(symbol)\n",
    "        else :\n",
    "            if s.isEmpty() :\n",
    "                balanced = False\n",
    "            else :\n",
    "                top = s.pop()\n",
    "                if not matches(top, symbol) :\n",
    "                    balanced = False\n",
    "        index = index + 1\n",
    "        \n",
    "    if balanced and s.isEmpty() :\n",
    "        return True\n",
    "    else :\n",
    "        return False"
   ]
  },
  {
   "cell_type": "code",
   "execution_count": 18,
   "metadata": {},
   "outputs": [
    {
     "name": "stdout",
     "output_type": "stream",
     "text": [
      "True\n"
     ]
    }
   ],
   "source": [
    "print(parChecker('{{([][])}()}'))"
   ]
  },
  {
   "cell_type": "code",
   "execution_count": 19,
   "metadata": {},
   "outputs": [
    {
     "name": "stdout",
     "output_type": "stream",
     "text": [
      "False\n"
     ]
    }
   ],
   "source": [
    "print(parChecker('[{()]'))"
   ]
  },
  {
   "cell_type": "markdown",
   "metadata": {},
   "source": [
    "### 3.8 Converting Decimal Numbers to Binary Numbers"
   ]
  },
  {
   "cell_type": "markdown",
   "metadata": {},
   "source": [
    " 컴퓨터를 다루다보면 분명 이진수를 접하게 될 것이다. 십진수 233은 이진수 11101001에 해당한다. 또, 각각 다음과 같이 표현할 수 있다.  \n",
    "   \n",
    "$2 \\times 10^2 + 3 \\times 10^1 + 3 \\times 10^0$  \n",
    "  \n",
    "$1 \\times 2^7 + 1 \\times 2^6 + 1 \\times  2^5 + 0 \\times 2^4 + 1 \\times 2^3 + 0 \\times 2^2 + 0 \\times 2^1 + 1 \\times 2^0$"
   ]
  },
  {
   "cell_type": "markdown",
   "metadata": {},
   "source": [
    "십진수를 이진수로 바꾸는 것은, 2로 나눗셈을 하며 계산할 수 있다. 첫 나눗셈은 해당 수가 짝수인지, 홀수인지를 결정한다. 짝수라면, 첫 나눗셈의 나머지는 0일 것이고, 이진수의 첫 자리(가장 오른 쪽 수)는 0이 될 것이다. 나눗셈을 반복하며 나머지가 발생하면(홀수) 해당 자리수에 1을, 나머지가 없다면(짝수) 0을 적어내려간다."
   ]
  },
  {
   "cell_type": "markdown",
   "metadata": {},
   "source": [
    "<img src='../images/DecimalToBinary.png' />\n",
    "<center>\n",
    "    <em>Figure 1. Decimal To Binary</em>\n",
    "</center>"
   ]
  },
  {
   "cell_type": "code",
   "execution_count": 20,
   "metadata": {},
   "outputs": [],
   "source": [
    "def divideBy2(decimal) :\n",
    "    remstack = Stack()\n",
    "\n",
    "    while decimal > 0 :\n",
    "        rem = decimal % 2\n",
    "        remstack.push(rem)\n",
    "        decimal = decimal // 2\n",
    "\n",
    "    binString = \"\"\n",
    "    while not remstack.isEmpty() :\n",
    "        binString = binString + str(remstack.pop())\n",
    "\n",
    "    return binString"
   ]
  },
  {
   "cell_type": "code",
   "execution_count": 21,
   "metadata": {},
   "outputs": [
    {
     "name": "stdout",
     "output_type": "stream",
     "text": [
      "101010\n"
     ]
    }
   ],
   "source": [
    "print(divideBy2(42))"
   ]
  },
  {
   "cell_type": "markdown",
   "metadata": {},
   "source": [
    "10진수를 변경하는 것은 기본적으로 base로 나누는 것에서 시작하는 것이기 때문에 같은 로직을 이용해 16진수까지 바꿀 수 있는 알고리즘을 만들 수 있습니다. 10부터 15까지의 숫자를 A부터 F로 대응하여 표현할 수 있습니다."
   ]
  },
  {
   "cell_type": "code",
   "execution_count": 22,
   "metadata": {},
   "outputs": [],
   "source": [
    "def baseConverter(decimal, base) :\n",
    "    digits = \"0123456789ABCDEF\"\n",
    "\n",
    "    remstack = Stack()\n",
    "\n",
    "    while decimal > 0 :\n",
    "        rem = decimal % base\n",
    "        remstack.push(rem)\n",
    "        decimal = decimal // base\n",
    "\n",
    "    newString = \"\"\n",
    "    while not remstack.isEmpty() :\n",
    "        newString = newString + digits[remstack.pop()]\n",
    "\n",
    "    return newString"
   ]
  },
  {
   "cell_type": "code",
   "execution_count": 23,
   "metadata": {},
   "outputs": [
    {
     "name": "stdout",
     "output_type": "stream",
     "text": [
      "19\n"
     ]
    }
   ],
   "source": [
    "print(baseConverter(25,16))"
   ]
  },
  {
   "cell_type": "code",
   "execution_count": 24,
   "metadata": {},
   "outputs": [
    {
     "name": "stdout",
     "output_type": "stream",
     "text": [
      "13B\n"
     ]
    }
   ],
   "source": [
    "print(baseConverter(315,16))"
   ]
  },
  {
   "cell_type": "markdown",
   "metadata": {},
   "source": [
    "### 3.10 What is a Queue?"
   ]
  },
  {
   "cell_type": "markdown",
   "metadata": {},
   "source": [
    "Queue는 'rear'라고 불리는 하나의 end에서 아이템 삽입이 이루어지고, 'front'라 불리는 end에서 아이템 제거(배출)가 일어난다. Stack과는 다르게 **FIFO(First in First out)** 방식의 자료구조이다.  \n",
    "  \n",
    "이를 설명할 수 있는 가장 쉬운 예제 중 하나는, 우리가 무언가를 하기 위해(물건을 계산하거나 영화를 관람하는 것) 줄을 서는 것을 생각하면 된다. 먼저 줄을 선 사람(item)이 먼저 입장(served)을 하고, 늦게 줄을 선 사람이 나중에 입장한다."
   ]
  },
  {
   "cell_type": "markdown",
   "metadata": {},
   "source": [
    "<img src='../images/queue concept.png' />\n",
    "<center>\n",
    "    <em>Figure 2. Concept of Queue</em>\n",
    "</center>"
   ]
  },
  {
   "cell_type": "markdown",
   "metadata": {},
   "source": [
    "컴퓨터에서도 queue 형태의 자료구조가 사용된다. 우리가 랩실에서 무언가를 프린트하려고 할 때, 프린터의 queue에 작업을 요청받은 순서대로 작업을 쌓고, 요청 순선대로 프린트 처리를 한다."
   ]
  },
  {
   "cell_type": "markdown",
   "metadata": {},
   "source": [
    "### 3.11 The Queue Abstract Data Type"
   ]
  },
  {
   "cell_type": "markdown",
   "metadata": {},
   "source": [
    "Queue abstract data type은 다음과 같은 구조와 method를 갖는다."
   ]
  },
  {
   "cell_type": "markdown",
   "metadata": {},
   "source": [
    "- ```Queue()``` : 비어있는 새로운 queue 객체를 만든다. 파라미터가 필요하지 않다.\n",
    "- ``` enqueue(item)``` : 큐의 rear(뒤쪽 end)에 새로운 아이템을 추가한다.\n",
    "- ```dequeue()``` : 큐의 front에 있는 item을 반환하고, queue에서 아이템을 삭제한다.\n",
    "- ```isEmpty()``` : 큐가 비어있는지 여부를 boolean으로 반환한다.\n",
    "- ```size()``` : 큐에 있는 아이템 수를 반환한다."
   ]
  },
  {
   "cell_type": "markdown",
   "metadata": {},
   "source": [
    "<img src='../images/queue methods.png' />\n",
    "<center>\n",
    "    <em>Table 1. Methods of queue</em>\n",
    "</center>"
   ]
  },
  {
   "cell_type": "code",
   "execution_count": 25,
   "metadata": {},
   "outputs": [],
   "source": [
    "from structures.Queue import Queue"
   ]
  },
  {
   "cell_type": "code",
   "execution_count": 36,
   "metadata": {},
   "outputs": [
    {
     "name": "stdout",
     "output_type": "stream",
     "text": [
      "3\n"
     ]
    }
   ],
   "source": [
    "q=Queue()\n",
    "q.enqueue(4)\n",
    "q.enqueue('dog')\n",
    "q.enqueue(True)\n",
    "print(q.size())"
   ]
  },
  {
   "cell_type": "code",
   "execution_count": 37,
   "metadata": {},
   "outputs": [
    {
     "data": {
      "text/plain": [
       "False"
      ]
     },
     "execution_count": 37,
     "metadata": {},
     "output_type": "execute_result"
    }
   ],
   "source": [
    "q.isEmpty()"
   ]
  },
  {
   "cell_type": "code",
   "execution_count": 38,
   "metadata": {},
   "outputs": [
    {
     "name": "stdout",
     "output_type": "stream",
     "text": [
      "[8.4, True, 'dog', 4]\n"
     ]
    }
   ],
   "source": [
    "q.enqueue(8.4)\n",
    "print(q.items)"
   ]
  },
  {
   "cell_type": "code",
   "execution_count": 39,
   "metadata": {},
   "outputs": [
    {
     "data": {
      "text/plain": [
       "4"
      ]
     },
     "execution_count": 39,
     "metadata": {},
     "output_type": "execute_result"
    }
   ],
   "source": [
    "q.dequeue()"
   ]
  },
  {
   "cell_type": "code",
   "execution_count": 40,
   "metadata": {},
   "outputs": [
    {
     "name": "stdout",
     "output_type": "stream",
     "text": [
      "[8.4, True, 'dog']\n"
     ]
    }
   ],
   "source": [
    "print(q.items)"
   ]
  },
  {
   "cell_type": "code",
   "execution_count": 41,
   "metadata": {},
   "outputs": [
    {
     "data": {
      "text/plain": [
       "'dog'"
      ]
     },
     "execution_count": 41,
     "metadata": {},
     "output_type": "execute_result"
    }
   ],
   "source": [
    "q.dequeue()"
   ]
  },
  {
   "cell_type": "code",
   "execution_count": 42,
   "metadata": {},
   "outputs": [
    {
     "name": "stdout",
     "output_type": "stream",
     "text": [
      "[8.4, True]\n"
     ]
    }
   ],
   "source": [
    "print(q.items)"
   ]
  },
  {
   "cell_type": "markdown",
   "metadata": {},
   "source": [
    "### Simulation : Hot Potato"
   ]
  },
  {
   "cell_type": "markdown",
   "metadata": {},
   "source": [
    "Queue가 현실에서 어떻게 사용되는지 알아보기 위해 Hot Potato라는 게임을 생각해보자. 이 게임에서, 참여자들은 가능한 한 빨리 옆 이웃에게 item을 전달해야 한다. 특정 포인트가 되면, item(potato)을 가지고 있는 참여자는 게임에서 제외된다. 한 사람만 남을 때까지 이 작업을 반복한다.  \n",
    "  \n",
    "우리는 이 Hot Potato 게임을 시뮬레이션해볼 것이다. 우리의 queue는 참여자들의 이름을 input으로 받고, num이라는 parameter를 받아, num만큼 item이 전달된 뒤 potato를 가진 참여자의 이름을 큐에서 삭제할 것이다."
   ]
  },
  {
   "cell_type": "markdown",
   "metadata": {},
   "source": [
    "<img src='../images/Hot Potato Game.png' />\n",
    "<center>\n",
    "    <em>Figure 3. Hot Potato Game</em>\n",
    "</center>"
   ]
  },
  {
   "cell_type": "code",
   "execution_count": 43,
   "metadata": {},
   "outputs": [],
   "source": [
    "def hotPotato(namelist, num) :\n",
    "    simqueue = Queue()\n",
    "    for name in namelist :\n",
    "        simqueue.enqueue(name)\n",
    "\n",
    "    while simqueue.size() > 1 :\n",
    "        for i in range(num) :\n",
    "            simqueue.enqueue(simqueue.dequeue())\n",
    "\n",
    "        eliminated = simqueue.dequeue()\n",
    "        print('{} is eliminated!'.format(eliminated))\n",
    "\n",
    "    return simqueue.dequeue()"
   ]
  },
  {
   "cell_type": "code",
   "execution_count": 44,
   "metadata": {},
   "outputs": [
    {
     "name": "stdout",
     "output_type": "stream",
     "text": [
      "David is eliminated!\n",
      "Kent is eliminated!\n",
      "Jane is eliminated!\n",
      "Bill is eliminated!\n",
      "Brad is eliminated!\n"
     ]
    },
    {
     "data": {
      "text/plain": [
       "'Susan'"
      ]
     },
     "execution_count": 44,
     "metadata": {},
     "output_type": "execute_result"
    }
   ],
   "source": [
    "hotPotato([\"Bill\",\"David\",\"Susan\",\"Jane\",\"Kent\",\"Brad\"],7)"
   ]
  },
  {
   "cell_type": "markdown",
   "metadata": {},
   "source": [
    "<img src='../images/Hot Potato Game with Queue.png' />\n",
    "<center>\n",
    "    <em>Figure 4. Hot Potato Game with Queue</em>\n",
    "</center>"
   ]
  },
  {
   "cell_type": "markdown",
   "metadata": {},
   "source": [
    "#### References\n",
    "- Figure 1 : http://interactivepython.org/runestone/static/pythonds/BasicDS/ConvertingDecimalNumberstoBinaryNumbers.html\n",
    "- Figure 2 : http://interactivepython.org/runestone/static/pythonds/BasicDS/WhatIsaQueue.html\n",
    "- Figure 3, 4 : http://interactivepython.org/runestone/static/pythonds/BasicDS/SimulationHotPotato.html\n",
    "  \n",
    "  \n",
    "- Table 1 : http://interactivepython.org/runestone/static/pythonds/BasicDS/TheQueueAbstractDataType.html"
   ]
  }
 ],
 "metadata": {
  "kernelspec": {
   "display_name": "Python 3",
   "language": "python",
   "name": "python3"
  },
  "language_info": {
   "codemirror_mode": {
    "name": "ipython",
    "version": 3
   },
   "file_extension": ".py",
   "mimetype": "text/x-python",
   "name": "python",
   "nbconvert_exporter": "python",
   "pygments_lexer": "ipython3",
   "version": "3.6.7"
  }
 },
 "nbformat": 4,
 "nbformat_minor": 2
}
